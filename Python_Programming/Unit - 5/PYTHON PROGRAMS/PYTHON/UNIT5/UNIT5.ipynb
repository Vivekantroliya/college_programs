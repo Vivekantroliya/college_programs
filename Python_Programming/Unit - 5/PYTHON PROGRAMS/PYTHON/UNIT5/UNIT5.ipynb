{
 "cells": [
  {
   "cell_type": "code",
   "execution_count": 2,
   "metadata": {},
   "outputs": [
    {
     "name": "stdout",
     "output_type": "stream",
     "text": [
      "Requirement already satisfied: mysql.connector in c:\\users\\student\\appdata\\local\\programs\\python\\python312\\lib\\site-packages (2.2.9)\n",
      "Note: you may need to restart the kernel to use updated packages.\n"
     ]
    },
    {
     "name": "stderr",
     "output_type": "stream",
     "text": [
      "\n",
      "[notice] A new release of pip is available: 23.2.1 -> 24.0\n",
      "[notice] To update, run: python.exe -m pip install --upgrade pip\n"
     ]
    }
   ],
   "source": [
    "%pip install mysql.connector"
   ]
  },
  {
   "cell_type": "code",
   "execution_count": 4,
   "metadata": {},
   "outputs": [
    {
     "name": "stdout",
     "output_type": "stream",
     "text": [
      "Database created\n"
     ]
    }
   ],
   "source": [
    "import mysql.connector\n",
    "\n",
    "mydb = mysql.connector.connect(\n",
    "  host=\"localhost\",\n",
    "  user=\"root\",\n",
    "  password=\"\"\n",
    ")\n",
    "mycursor = mydb.cursor()\n",
    "\n",
    "mycursor.execute(\"Create Database MARWADI\")\n",
    "print(\"Database created\")\n"
   ]
  },
  {
   "cell_type": "code",
   "execution_count": 5,
   "metadata": {},
   "outputs": [
    {
     "name": "stdout",
     "output_type": "stream",
     "text": [
      "('student',)\n"
     ]
    }
   ],
   "source": [
    "mydb = mysql.connector.connect(\n",
    "  host=\"localhost\",\n",
    "  user=\"root\",\n",
    "  password=\"\",\n",
    "  database= 'MARWADI'\n",
    ")\n",
    "mycursor = mydb.cursor()\n",
    "\n",
    " #create table\n",
    "createTable = '''CREATE TABLE student(\n",
    "      rollno int(5), \n",
    "      name varchar(5),\n",
    "      gender varchar(5),\n",
    "      age int(3),\n",
    "      email varchar(50),\n",
    "      mobile int(10),\n",
    "      city varchar(15)\n",
    ");\n",
    "'''\n",
    "mycursor.execute(createTable)\n",
    "\n",
    "mycursor.execute(\"SHOW TABLES\")\n",
    "\n",
    "for x in mycursor:\n",
    "  print(x)\n",
    "\n",
    "mydb.close()\n"
   ]
  },
  {
   "cell_type": "code",
   "execution_count": 6,
   "metadata": {},
   "outputs": [],
   "source": [
    "# 1\n",
    "import mysql.connector\n",
    "\n",
    "mydb = mysql.connector.connect(\n",
    "  host=\"localhost\",\n",
    "  user=\"root\",\n",
    "  password=\"\",\n",
    "  database=\"MARWADI\"\n",
    ")\n",
    "\n",
    "mycursor = mydb.cursor()\n",
    "\n",
    "mycursor.execute(\"SELECT * FROM student\")\n",
    "rows = mycursor.fetchone()\n",
    "\n",
    "while rows:\n",
    "  print(rows)\n",
    "  rows = mycursor.fetchone()\n"
   ]
  },
  {
   "cell_type": "code",
   "execution_count": null,
   "metadata": {},
   "outputs": [],
   "source": [
    "# 2) Write a program to display all the records of student table (make use of\n",
    "# fetchall() method)\n",
    "import mysql.connector\n",
    "\n",
    "mydb = mysql.connector.connect(\n",
    "  host=\"localhost\",\n",
    "  user=\"yourusername\",\n",
    "  password=\"yourpassword\",\n",
    "  database=\"yourdatabase\"  # Specify your database name\n",
    ")\n",
    "\n",
    "mycursor = mydb.cursor()\n",
    "\n",
    "mycursor.execute(\"SELECT * FROM student\")\n",
    "rows = mycursor.fetchall()\n",
    "\n",
    "for row in rows:\n",
    "  print(row)\n",
    "\n",
    "result = mycursor.execute()\n",
    "print()"
   ]
  },
  {
   "cell_type": "code",
   "execution_count": 7,
   "metadata": {},
   "outputs": [
    {
     "name": "stdout",
     "output_type": "stream",
     "text": [
      "Student not found.\n"
     ]
    }
   ],
   "source": [
    "# 3) Write a program to search for particular student and display the details of\n",
    "# student. If student is not found, related message shall be displayed\n",
    "import mysql.connector\n",
    "\n",
    "mydb = mysql.connector.connect(\n",
    "  host=\"localhost\",\n",
    "  user=\"root\",\n",
    "  password=\"\",\n",
    "  database=\"MARWADI\"  # Specify your database name\n",
    ")\n",
    "\n",
    "mycursor = mydb.cursor()\n",
    "\n",
    "rollno = input(\"Enter the roll number of the student to search: \")\n",
    "\n",
    "mycursor.execute(\"SELECT * FROM student WHERE rollno = %s\", (rollno,))\n",
    "student = mycursor.fetchone()\n",
    "\n",
    "if student:\n",
    "    print(\"Student details:\")\n",
    "    print(student)\n",
    "else:\n",
    "    print(\"Student not found.\")\n",
    "\n"
   ]
  },
  {
   "cell_type": "code",
   "execution_count": 8,
   "metadata": {
    "metadata": {}
   },
   "outputs": [
    {
     "name": "stdout",
     "output_type": "stream",
     "text": [
      "6 record inserted.\n"
     ]
    }
   ],
   "source": [
    "\n",
    "# 4) Write a program to insert the details of student in above table\n",
    "import mysql.connector\n",
    "\n",
    "mydb = mysql.connector.connect(\n",
    "  host=\"localhost\",\n",
    "  user=\"root\",\n",
    "  password=\"\",\n",
    "  database=\"MARWADI\"  # Specify your database name\n",
    ")\n",
    "\n",
    "mycursor = mydb.cursor()\n",
    "\n",
    "# rollno = input(\"Enter roll number: \")\n",
    "# name = input(\"Enter name: \")\n",
    "# gender = input(\"Enter gender: \")\n",
    "# age = input(\"Enter age: \")\n",
    "# email = input(\"Enter email: \")\n",
    "# mobile = input(\"Enter mobile number: \")\n",
    "# city = input(\"Enter city: \")\n",
    "\n",
    "sql = \"INSERT INTO student (rollno, name, gender, age, email, mobile, city) VALUES (%s, %s, %s, %s, %s, %s, %s)\"\n",
    "\n",
    "val = [\n",
    "(1, 'Peter', 'Male', 22, 'peter@gmail.com', 2818254584, 'Rajkot'),\n",
    "(2, 'Amy', 'Female', 24, 'amy@gmail.com', 2817854784, 'Ahmedabad'),\n",
    "(3, 'Sandy', 'Male', 25, 'sandy@gmail.com', 2818545588, 'Rajkot'),\n",
    "(4, 'Vicky', 'Female', 22, 'vicky@gmail.com', 2817454547, 'Gondal'),\n",
    "(5, 'William', 'Male', 23, 'william@gmail.com', 2817548451, 'Surat'),\n",
    "(6, 'Viola', 'Male', 24, 'viola@gmail.com', 2816524521, 'Baroda')\n",
    "]\n",
    "  \n",
    "# val = (rollno, name, gender, age, email, mobile, city)\n",
    "\n",
    "mycursor.executemany(sql, val)\n",
    "\n",
    "mydb.commit()\n",
    "\n",
    "print(mycursor.rowcount, \"record inserted.\")"
   ]
  },
  {
   "cell_type": "code",
   "execution_count": 9,
   "metadata": {},
   "outputs": [
    {
     "name": "stdout",
     "output_type": "stream",
     "text": [
      "1 record(s) updated.\n"
     ]
    }
   ],
   "source": [
    "# 5) Write a program to update the details of student in above table\n",
    "import mysql.connector\n",
    "\n",
    "mydb = mysql.connector.connect(\n",
    "  host=\"localhost\",\n",
    "  user=\"root\",\n",
    "  password=\"\",\n",
    "  database=\"MARWADI\"  # Specify your database name\n",
    ")\n",
    "\n",
    "mycursor = mydb.cursor()\n",
    "\n",
    "rollno = input(\"Enter roll number of the student to update: \")\n",
    "field = input(\"Enter field to update: \")\n",
    "new_value = input(f\"Enter new value for {field}: \")\n",
    "\n",
    "sql = f\"UPDATE student SET {field} = %s WHERE rollno = %s\"\n",
    "val = (new_value, rollno)\n",
    "\n",
    "mycursor.execute(sql, val)\n",
    "\n",
    "mydb.commit()\n",
    "\n",
    "print(mycursor.rowcount, \"record(s) updated.\")"
   ]
  },
  {
   "cell_type": "code",
   "execution_count": 10,
   "metadata": {},
   "outputs": [
    {
     "name": "stdout",
     "output_type": "stream",
     "text": [
      "1 record(s) deleted.\n"
     ]
    }
   ],
   "source": [
    "\n",
    "\n",
    "# 6) Write a program to delete the details of student in above table\n",
    "import mysql.connector\n",
    "\n",
    "mydb = mysql.connector.connect(\n",
    "  host=\"localhost\",\n",
    "  user=\"root\",\n",
    "  password=\"\",\n",
    "  database=\"MARWADI\"  \n",
    ")\n",
    "\n",
    "mycursor = mydb.cursor()\n",
    "\n",
    "rollno = input(\"Enter roll number of the student to delete: \")\n",
    "\n",
    "sql = \"DELETE FROM student WHERE rollno = %s\"\n",
    "val = (rollno,)\n",
    "\n",
    "mycursor.execute(sql, val)\n",
    "\n",
    "mydb.commit()\n",
    "\n",
    "print(mycursor.rowcount, \"record(s) deleted.\")"
   ]
  },
  {
   "cell_type": "code",
   "execution_count": 11,
   "metadata": {},
   "outputs": [],
   "source": [
    "\n",
    "\n",
    "# 7) Write a program to display only those records who have valid email\n",
    "# address as their information. Use regular expression here.\n",
    "import re\n",
    "import mysql.connector\n",
    "\n",
    "mydb = mysql.connector.connect(\n",
    "  host=\"localhost\",\n",
    "  user=\"root\",\n",
    "  password=\"\",\n",
    "  database=\"MARWADI\"  # Specify your database name\n",
    ")\n",
    "\n",
    "mycursor = mydb.cursor()\n",
    "\n",
    "mycursor.execute(\"SELECT * FROM student\")\n",
    "\n",
    "for row in mycursor.fetchall():\n",
    "    email = row[4]\n",
    "    if re.match(r\"[^@]+@[^@]+\\.[^@]+\", email):\n",
    "        print(row)"
   ]
  },
  {
   "cell_type": "code",
   "execution_count": 12,
   "metadata": {},
   "outputs": [],
   "source": [
    "\n",
    "\n",
    "# 8) Write a program to load all the records from table and display only those\n",
    "# details where names start with “N” and has length of 5 characters.\n",
    "import mysql.connector\n",
    "\n",
    "mydb = mysql.connector.connect(\n",
    "  host=\"localhost\",\n",
    "  user=\"root\",\n",
    "  password=\"\",\n",
    "  database=\"MARWADI\"  # Specify your database name\n",
    ")\n",
    "\n",
    "mycursor = mydb.cursor()\n",
    "\n",
    "mycursor.execute(\"SELECT * FROM student WHERE name LIKE 'N____'\")\n",
    "\n",
    "for row in mycursor.fetchall():\n",
    "    print(row)\n"
   ]
  },
  {
   "cell_type": "code",
   "execution_count": 13,
   "metadata": {},
   "outputs": [
    {
     "name": "stdout",
     "output_type": "stream",
     "text": [
      "Table created successfully.\n"
     ]
    }
   ],
   "source": [
    "\n",
    "# 9) Write a program to create a list with 3 columns for name, data type and\n",
    "# size. Create table as per the information entered. Consider following\n",
    "# example\n",
    "# name varchar 20\n",
    "# qualification varchar 20\n",
    "# post varchar 20\n",
    "# salary int 6\n",
    "# Once above information is stored in list, program shall create a table from\n",
    "columns = [\n",
    "    (\"name\", \"varchar\", 20),\n",
    "    (\"qualification\", \"varchar\", 20),\n",
    "    (\"post\", \"varchar\", 20),\n",
    "    (\"salary\", \"int\", 6)\n",
    "]\n",
    "\n",
    "table_name = input(\"Enter table name: \")\n",
    "sql = f\"CREATE TABLE {table_name} (\"\n",
    "\n",
    "for col_name, data_type, size in columns:\n",
    "    sql += f\"{col_name} {data_type}({size}), \"\n",
    "\n",
    "sql = sql[:-2] + \")\"\n",
    "\n",
    "mycursor.execute(sql)\n",
    "\n",
    "print(\"Table created successfully.\")"
   ]
  }
 ],
 "metadata": {
  "kernelspec": {
   "display_name": "Python 3",
   "language": "python",
   "name": "python3"
  },
  "language_info": {
   "codemirror_mode": {
    "name": "ipython",
    "version": 3
   },
   "file_extension": ".py",
   "mimetype": "text/x-python",
   "name": "python",
   "nbconvert_exporter": "python",
   "pygments_lexer": "ipython3",
   "version": "3.12.1"
  }
 },
 "nbformat": 4,
 "nbformat_minor": 2
}
